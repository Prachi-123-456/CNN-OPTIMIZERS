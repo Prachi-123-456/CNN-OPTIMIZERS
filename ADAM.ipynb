{
 "cells": [
  {
   "cell_type": "code",
   "execution_count": 10,
   "metadata": {},
   "outputs": [],
   "source": [
    "import os\n",
    "import tensorflow as tf\n",
    "tf.keras.Model.save_weights\n",
    "from keras.callbacks import ModelCheckpoint\n",
    "import matplotlib.pyplot as plt"
   ]
  },
  {
   "cell_type": "code",
   "execution_count": 3,
   "metadata": {},
   "outputs": [
    {
     "name": "stdout",
     "output_type": "stream",
     "text": [
      "Found 2493 images belonging to 3 classes.\n",
      "Found 84 images belonging to 3 classes.\n"
     ]
    }
   ],
   "source": [
    "from keras.preprocessing.image import ImageDataGenerator\n",
    "\n",
    "# create a new generator\n",
    "imagegen = ImageDataGenerator()\n",
    "# load train data\n",
    "train = imagegen.flow_from_directory(\"C:/Users/Dell/scraping_image_data/training_images\", class_mode=\"categorical\", shuffle=False, batch_size=128, target_size=(224, 224))\n",
    "# load val data\n",
    "val = imagegen.flow_from_directory(\"C:/Users/Dell/scraping_image_data/validation_images\", class_mode=\"categorical\", shuffle=False, batch_size=128, target_size=(224, 224))"
   ]
  },
  {
   "cell_type": "code",
   "execution_count": 4,
   "metadata": {},
   "outputs": [],
   "source": [
    "from keras.models import Sequential\n",
    "from keras.layers import Conv2D, MaxPool2D, Flatten, Dense, InputLayer, BatchNormalization, Dropout\n",
    "\n",
    "# build a sequential model\n",
    "model = Sequential()\n",
    "model.add(InputLayer(input_shape=(224, 224, 3)))\n",
    "\n",
    "# 1st conv block\n",
    "model.add(Conv2D(25, (5, 5), activation='relu', strides=(1, 1), padding='same'))\n",
    "model.add(MaxPool2D(pool_size=(2, 2), padding='same'))\n",
    "# 2nd conv block\n",
    "model.add(Conv2D(50, (5, 5), activation='relu', strides=(2, 2), padding='same'))\n",
    "model.add(MaxPool2D(pool_size=(2, 2), padding='same'))\n",
    "model.add(BatchNormalization())\n",
    "# 3rd conv block\n",
    "model.add(Conv2D(70, (3, 3), activation='relu', strides=(2, 2), padding='same'))\n",
    "model.add(MaxPool2D(pool_size=(2, 2), padding='valid'))\n",
    "model.add(BatchNormalization())\n",
    "# ANN block\n",
    "model.add(Flatten())\n",
    "model.add(Dense(units=100, activation='relu'))\n",
    "model.add(Dense(units=100, activation='relu'))\n",
    "model.add(Dropout(0.25))\n",
    "# output layer\n",
    "model.add(Dense(units=3, activation='softmax'))"
   ]
  },
  {
   "cell_type": "code",
   "execution_count": 5,
   "metadata": {},
   "outputs": [
    {
     "name": "stdout",
     "output_type": "stream",
     "text": [
      "Epoch 1/20\n",
      "20/20 [==============================] - 235s 12s/step - loss: 1.5865 - accuracy: 0.4296 - val_loss: 10.4478 - val_accuracy: 0.3452\n",
      "Epoch 2/20\n",
      "20/20 [==============================] - 213s 11s/step - loss: 1.1944 - accuracy: 0.4902 - val_loss: 1.6435 - val_accuracy: 0.3571\n",
      "Epoch 3/20\n",
      "20/20 [==============================] - 214s 11s/step - loss: 1.1070 - accuracy: 0.4573 - val_loss: 1.4560 - val_accuracy: 0.4405\n",
      "Epoch 4/20\n",
      "20/20 [==============================] - 214s 11s/step - loss: 0.7925 - accuracy: 0.6490 - val_loss: 2.3111 - val_accuracy: 0.3929\n",
      "Epoch 5/20\n",
      "20/20 [==============================] - 214s 11s/step - loss: 0.6751 - accuracy: 0.6847 - val_loss: 5.1783 - val_accuracy: 0.3452\n",
      "Epoch 6/20\n",
      "20/20 [==============================] - 226s 11s/step - loss: 0.5535 - accuracy: 0.7497 - val_loss: 2.6074 - val_accuracy: 0.3810\n",
      "Epoch 7/20\n",
      "20/20 [==============================] - 212s 11s/step - loss: 0.4353 - accuracy: 0.8095 - val_loss: 2.7005 - val_accuracy: 0.4048\n",
      "Epoch 8/20\n",
      "20/20 [==============================] - 215s 11s/step - loss: 0.3010 - accuracy: 0.8801 - val_loss: 2.8018 - val_accuracy: 0.3690\n",
      "Epoch 9/20\n",
      "20/20 [==============================] - 213s 11s/step - loss: 0.3771 - accuracy: 0.8440 - val_loss: 3.7118 - val_accuracy: 0.3690\n",
      "Epoch 10/20\n",
      "20/20 [==============================] - 214s 11s/step - loss: 0.3921 - accuracy: 0.8367 - val_loss: 1.3753 - val_accuracy: 0.6548\n",
      "Epoch 11/20\n",
      "20/20 [==============================] - 217s 11s/step - loss: 0.3355 - accuracy: 0.8761 - val_loss: 1.7117 - val_accuracy: 0.5833\n",
      "Epoch 12/20\n",
      "20/20 [==============================] - 215s 11s/step - loss: 0.2293 - accuracy: 0.9166 - val_loss: 1.6505 - val_accuracy: 0.5476\n",
      "Epoch 13/20\n",
      "20/20 [==============================] - 214s 11s/step - loss: 0.1452 - accuracy: 0.9535 - val_loss: 1.4632 - val_accuracy: 0.6429\n",
      "Epoch 14/20\n",
      "20/20 [==============================] - 213s 11s/step - loss: 0.1025 - accuracy: 0.9723 - val_loss: 2.0882 - val_accuracy: 0.5595\n",
      "Epoch 15/20\n",
      "20/20 [==============================] - 213s 11s/step - loss: 0.0636 - accuracy: 0.9856 - val_loss: 1.3724 - val_accuracy: 0.7024\n",
      "Epoch 16/20\n",
      "20/20 [==============================] - 213s 11s/step - loss: 0.0358 - accuracy: 0.9936 - val_loss: 1.1503 - val_accuracy: 0.7619\n",
      "Epoch 17/20\n",
      "20/20 [==============================] - 213s 11s/step - loss: 0.0299 - accuracy: 0.9964 - val_loss: 1.4390 - val_accuracy: 0.7024\n",
      "Epoch 18/20\n",
      "20/20 [==============================] - 214s 11s/step - loss: 0.0157 - accuracy: 0.9992 - val_loss: 1.1821 - val_accuracy: 0.7381\n",
      "Epoch 19/20\n",
      "20/20 [==============================] - 213s 11s/step - loss: 0.0106 - accuracy: 0.9996 - val_loss: 1.0870 - val_accuracy: 0.7619\n",
      "Epoch 20/20\n",
      "20/20 [==============================] - 216s 11s/step - loss: 0.0078 - accuracy: 0.9996 - val_loss: 1.1628 - val_accuracy: 0.7619\n"
     ]
    },
    {
     "data": {
      "text/plain": [
       "<keras.callbacks.callbacks.History at 0x25f2c33e208>"
      ]
     },
     "execution_count": 5,
     "metadata": {},
     "output_type": "execute_result"
    }
   ],
   "source": [
    "# compile model\n",
    "model.compile(loss='categorical_crossentropy', optimizer=\"Adam\", metrics=['accuracy'])\n",
    "#checkpoints\n",
    "checkpoint = ModelCheckpoint(filepath=r'C:\\Users\\Dell\\.keras\\models\\OPTIMIZERS\\ADAM.h5')\n",
    "# fit on data for 20 epochs\n",
    "model.fit_generator(train, epochs=20, validation_data=val)"
   ]
  },
  {
   "cell_type": "code",
   "execution_count": 6,
   "metadata": {},
   "outputs": [
    {
     "name": "stdout",
     "output_type": "stream",
     "text": [
      "Model: \"vgg16\"\n",
      "_________________________________________________________________\n",
      "Layer (type)                 Output Shape              Param #   \n",
      "=================================================================\n",
      "input_2 (InputLayer)         (None, None, None, 3)     0         \n",
      "_________________________________________________________________\n",
      "block1_conv1 (Conv2D)        (None, None, None, 64)    1792      \n",
      "_________________________________________________________________\n",
      "block1_conv2 (Conv2D)        (None, None, None, 64)    36928     \n",
      "_________________________________________________________________\n",
      "block1_pool (MaxPooling2D)   (None, None, None, 64)    0         \n",
      "_________________________________________________________________\n",
      "block2_conv1 (Conv2D)        (None, None, None, 128)   73856     \n",
      "_________________________________________________________________\n",
      "block2_conv2 (Conv2D)        (None, None, None, 128)   147584    \n",
      "_________________________________________________________________\n",
      "block2_pool (MaxPooling2D)   (None, None, None, 128)   0         \n",
      "_________________________________________________________________\n",
      "block3_conv1 (Conv2D)        (None, None, None, 256)   295168    \n",
      "_________________________________________________________________\n",
      "block3_conv2 (Conv2D)        (None, None, None, 256)   590080    \n",
      "_________________________________________________________________\n",
      "block3_conv3 (Conv2D)        (None, None, None, 256)   590080    \n",
      "_________________________________________________________________\n",
      "block3_pool (MaxPooling2D)   (None, None, None, 256)   0         \n",
      "_________________________________________________________________\n",
      "block4_conv1 (Conv2D)        (None, None, None, 512)   1180160   \n",
      "_________________________________________________________________\n",
      "block4_conv2 (Conv2D)        (None, None, None, 512)   2359808   \n",
      "_________________________________________________________________\n",
      "block4_conv3 (Conv2D)        (None, None, None, 512)   2359808   \n",
      "_________________________________________________________________\n",
      "block4_pool (MaxPooling2D)   (None, None, None, 512)   0         \n",
      "_________________________________________________________________\n",
      "block5_conv1 (Conv2D)        (None, None, None, 512)   2359808   \n",
      "_________________________________________________________________\n",
      "block5_conv2 (Conv2D)        (None, None, None, 512)   2359808   \n",
      "_________________________________________________________________\n",
      "block5_conv3 (Conv2D)        (None, None, None, 512)   2359808   \n",
      "_________________________________________________________________\n",
      "block5_pool (MaxPooling2D)   (None, None, None, 512)   0         \n",
      "=================================================================\n",
      "Total params: 14,714,688\n",
      "Trainable params: 14,714,688\n",
      "Non-trainable params: 0\n",
      "_________________________________________________________________\n"
     ]
    }
   ],
   "source": [
    "from keras.applications import VGG16\n",
    "\n",
    "# include top should be False to remove the softmax layer\n",
    "pretrained_model = VGG16(include_top=False, weights='imagenet')\n",
    "pretrained_model.summary()"
   ]
  },
  {
   "cell_type": "code",
   "execution_count": 12,
   "metadata": {},
   "outputs": [
    {
     "name": "stdout",
     "output_type": "stream",
     "text": [
      "Test loss: 1.1627928018569946\n",
      "Test accuracy: 0.761904776096344\n"
     ]
    },
    {
     "name": "stderr",
     "output_type": "stream",
     "text": [
      "Clipping input data to the valid range for imshow with RGB data ([0..1] for floats or [0..255] for integers).\n",
      "Clipping input data to the valid range for imshow with RGB data ([0..1] for floats or [0..255] for integers).\n",
      "Clipping input data to the valid range for imshow with RGB data ([0..1] for floats or [0..255] for integers).\n",
      "Clipping input data to the valid range for imshow with RGB data ([0..1] for floats or [0..255] for integers).\n",
      "Clipping input data to the valid range for imshow with RGB data ([0..1] for floats or [0..255] for integers).\n"
     ]
    },
    {
     "data": {
      "image/png": "[encoded data removed]",
      "text/plain": [
       "<Figure size 1440x1440 with 5 Axes>"
      ]
     },
     "metadata": {
      "needs_background": "light"
     },
     "output_type": "display_data"
    }
   ],
   "source": [
    "#Check the Evaluation\n",
    "test_eval = model.evaluate(val, verbose=0)\n",
    "\n",
    "#Print Results\n",
    "print('Test loss:', test_eval[0])\n",
    "print('Test accuracy:', test_eval[1])\n",
    "\n",
    "sample_training_images, _ = next(train)\n",
    "\n",
    "#Defining Plots\n",
    "def plotImages(images_arr):\n",
    "    fig, axes = plt.subplots(1, 5, figsize=(20,20))\n",
    "    axes = axes.flatten()\n",
    "    for img, ax in zip( images_arr, axes):\n",
    "        ax.imshow(img)\n",
    "        ax.axis('off')\n",
    "    plt.tight_layout()\n",
    "    plt.show()\n",
    "#Ploting Results    \n",
    "plotImages(sample_training_images[:5])\n"
   ]
  },
  {
   "cell_type": "code",
   "execution_count": null,
   "metadata": {},
   "outputs": [],
   "source": []
  }
 ],
 "metadata": {
  "kernelspec": {
   "display_name": "Python 3",
   "language": "python",
   "name": "python3"
  },
  "language_info": {
   "codemirror_mode": {
    "name": "ipython",
    "version": 3
   },
   "file_extension": ".py",
   "mimetype": "text/x-python",
   "name": "python",
   "nbconvert_exporter": "python",
   "pygments_lexer": "ipython3",
   "version": "3.7.6"
  }
 },
 "nbformat": 4,
 "nbformat_minor": 4
}
