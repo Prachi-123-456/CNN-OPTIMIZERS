{
 "cells": [
  {
   "cell_type": "markdown",
   "metadata": {},
   "source": [
    "# CNN Model using RMSProp"
   ]
  },
  {
   "cell_type": "code",
   "execution_count": 23,
   "metadata": {},
   "outputs": [],
   "source": [
    "import keras\n",
    "from keras.preprocessing.image import ImageDataGenerator\n",
    "from keras.models import Sequential\n",
    "from keras.layers import Flatten, Dense, Dropout\n",
    "from keras.optimizers import RMSprop\n",
    "from keras.callbacks import EarlyStopping, ReduceLROnPlateau\n",
    "from keras.callbacks import ModelCheckpoint\n",
    "import matplotlib.pyplot as plt"
   ]
  },
  {
   "cell_type": "code",
   "execution_count": 2,
   "metadata": {},
   "outputs": [],
   "source": [
    "train_datagen = ImageDataGenerator(\n",
    "    rotation_range=40,\n",
    "    width_shift_range=0.2,\n",
    "    height_shift_range=0.2,\n",
    "    rescale=1/255,\n",
    "    shear_range=0.2,\n",
    "    zoom_range=0.2,\n",
    "    horizontal_flip=True,\n",
    "    fill_mode='nearest',\n",
    "    validation_split=0.2\n",
    ")\n",
    "test_datagen = ImageDataGenerator(\n",
    "    rescale=1/255,\n",
    ")"
   ]
  },
  {
   "cell_type": "code",
   "execution_count": 3,
   "metadata": {},
   "outputs": [],
   "source": [
    "batch_size = 128"
   ]
  },
  {
   "cell_type": "code",
   "execution_count": 5,
   "metadata": {},
   "outputs": [
    {
     "name": "stdout",
     "output_type": "stream",
     "text": [
      "Found 1996 images belonging to 3 classes.\n",
      "Found 15 images belonging to 3 classes.\n"
     ]
    }
   ],
   "source": [
    "train_generator = train_datagen.flow_from_directory(\"C:/Users/Dell/scraping_image_data/training_images\",\n",
    "    target_size=(48, 48),\n",
    "    batch_size=batch_size,\n",
    "    class_mode='categorical',\n",
    "    subset='training',\n",
    ")\n",
    "validation_generator = train_datagen.flow_from_directory(\"C:/Users/Dell/scraping_image_data/validation_images\",\n",
    "    target_size=(48, 48),\n",
    "    batch_size=batch_size,\n",
    "    class_mode='categorical',\n",
    "    subset='validation'\n",
    ")"
   ]
  },
  {
   "cell_type": "code",
   "execution_count": 8,
   "metadata": {},
   "outputs": [],
   "source": [
    "prior = keras.applications.VGG16(\n",
    "    include_top=False, \n",
    "    weights='imagenet',\n",
    "    input_shape=(48, 48, 3)\n",
    ")\n",
    "model = Sequential()\n",
    "model.add(prior)\n",
    "model.add(Flatten())\n",
    "model.add(Dense(256, activation='relu', name='Dense_Intermediate'))\n",
    "model.add(Dropout(0.1, name='Dropout_Regularization'))\n",
    "model.add(Dense(3, activation='softmax', name='Output'))\n"
   ]
  },
  {
   "cell_type": "code",
   "execution_count": 9,
   "metadata": {},
   "outputs": [],
   "source": [
    "for cnn_block_layer in model.layers[0].layers:\n",
    "    cnn_block_layer.trainable = False\n",
    "model.layers[0].trainable = False"
   ]
  },
  {
   "cell_type": "code",
   "execution_count": 10,
   "metadata": {},
   "outputs": [],
   "source": [
    "model.compile(\n",
    "    optimizer=RMSprop(),\n",
    "    loss='categorical_crossentropy',\n",
    "    metrics=['accuracy']\n",
    ")"
   ]
  },
  {
   "cell_type": "code",
   "execution_count": 13,
   "metadata": {},
   "outputs": [],
   "source": [
    "#checkpoints\n",
    "checkpoint = ModelCheckpoint(filepath=r'C:\\Users\\Dell\\.keras\\models\\OPTIMIZERS\\RMSProp.h5')"
   ]
  },
  {
   "cell_type": "code",
   "execution_count": 16,
   "metadata": {},
   "outputs": [
    {
     "name": "stdout",
     "output_type": "stream",
     "text": [
      "Epoch 1/20\n",
      "15/15 [==============================] - 73s 5s/step - loss: 0.8833 - accuracy: 0.5776 - val_loss: 0.7162 - val_accuracy: 0.6667\n",
      "Epoch 2/20\n",
      "15/15 [==============================] - 57s 4s/step - loss: 0.6371 - accuracy: 0.7136 - val_loss: 0.7950 - val_accuracy: 0.7111\n",
      "Epoch 3/20\n",
      "15/15 [==============================] - 57s 4s/step - loss: 0.5834 - accuracy: 0.7266 - val_loss: 0.8594 - val_accuracy: 0.6889\n",
      "Epoch 4/20\n",
      "15/15 [==============================] - 55s 4s/step - loss: 0.5426 - accuracy: 0.7506 - val_loss: 0.6883 - val_accuracy: 0.7067\n",
      "Epoch 5/20\n",
      "15/15 [==============================] - 55s 4s/step - loss: 0.5225 - accuracy: 0.7682 - val_loss: 0.8655 - val_accuracy: 0.7644\n",
      "Epoch 6/20\n",
      "15/15 [==============================] - 56s 4s/step - loss: 0.5058 - accuracy: 0.7612 - val_loss: 0.8545 - val_accuracy: 0.6844\n",
      "Epoch 7/20\n",
      "15/15 [==============================] - 56s 4s/step - loss: 0.4892 - accuracy: 0.7698 - val_loss: 0.7645 - val_accuracy: 0.6889\n",
      "Epoch 8/20\n",
      "15/15 [==============================] - 56s 4s/step - loss: 0.4683 - accuracy: 0.7844 - val_loss: 0.9227 - val_accuracy: 0.7200\n",
      "Epoch 9/20\n",
      "15/15 [==============================] - 53s 4s/step - loss: 0.4622 - accuracy: 0.7803 - val_loss: 1.1022 - val_accuracy: 0.6400\n",
      "Epoch 10/20\n",
      "15/15 [==============================] - 55s 4s/step - loss: 0.4685 - accuracy: 0.7880 - val_loss: 1.1581 - val_accuracy: 0.7244\n",
      "Epoch 11/20\n",
      "15/15 [==============================] - 54s 4s/step - loss: 0.4473 - accuracy: 0.8062 - val_loss: 0.9037 - val_accuracy: 0.7244\n",
      "Epoch 12/20\n",
      "15/15 [==============================] - 53s 4s/step - loss: 0.4386 - accuracy: 0.8009 - val_loss: 0.4637 - val_accuracy: 0.6889\n",
      "Epoch 13/20\n",
      "15/15 [==============================] - 54s 4s/step - loss: 0.4281 - accuracy: 0.8067 - val_loss: 0.8505 - val_accuracy: 0.6756\n",
      "Epoch 14/20\n",
      "15/15 [==============================] - 54s 4s/step - loss: 0.4294 - accuracy: 0.8110 - val_loss: 0.9474 - val_accuracy: 0.7156\n",
      "Epoch 15/20\n",
      "15/15 [==============================] - 53s 4s/step - loss: 0.4517 - accuracy: 0.8009 - val_loss: 1.1776 - val_accuracy: 0.6844\n",
      "Epoch 16/20\n",
      "15/15 [==============================] - 54s 4s/step - loss: 0.4282 - accuracy: 0.8073 - val_loss: 0.9355 - val_accuracy: 0.7244\n",
      "Epoch 17/20\n",
      "15/15 [==============================] - 56s 4s/step - loss: 0.4236 - accuracy: 0.8094 - val_loss: 0.7249 - val_accuracy: 0.7156\n",
      "Epoch 18/20\n",
      "15/15 [==============================] - 56s 4s/step - loss: 0.3912 - accuracy: 0.8415 - val_loss: 1.0909 - val_accuracy: 0.6933\n",
      "Epoch 19/20\n",
      "15/15 [==============================] - 55s 4s/step - loss: 0.4134 - accuracy: 0.8217 - val_loss: 0.6247 - val_accuracy: 0.7200\n",
      "Epoch 20/20\n",
      "15/15 [==============================] - 54s 4s/step - loss: 0.4102 - accuracy: 0.8185 - val_loss: 0.7338 - val_accuracy: 0.6978\n"
     ]
    },
    {
     "data": {
      "text/plain": [
       "<keras.callbacks.callbacks.History at 0x26c84535548>"
      ]
     },
     "execution_count": 16,
     "metadata": {},
     "output_type": "execute_result"
    }
   ],
   "source": [
    "model.fit_generator(\n",
    "    train_generator,\n",
    "    steps_per_epoch=len(train_generator.filenames) // batch_size,\n",
    "    epochs=20,\n",
    "    validation_data=validation_generator,\n",
    "    validation_steps=len(train_generator.filenames) // batch_size)"
   ]
  },
  {
   "cell_type": "code",
   "execution_count": 31,
   "metadata": {},
   "outputs": [
    {
     "name": "stdout",
     "output_type": "stream",
     "text": [
      "Model: \"vgg16\"\n",
      "_________________________________________________________________\n",
      "Layer (type)                 Output Shape              Param #   \n",
      "=================================================================\n",
      "input_4 (InputLayer)         (None, None, None, 3)     0         \n",
      "_________________________________________________________________\n",
      "block1_conv1 (Conv2D)        (None, None, None, 64)    1792      \n",
      "_________________________________________________________________\n",
      "block1_conv2 (Conv2D)        (None, None, None, 64)    36928     \n",
      "_________________________________________________________________\n",
      "block1_pool (MaxPooling2D)   (None, None, None, 64)    0         \n",
      "_________________________________________________________________\n",
      "block2_conv1 (Conv2D)        (None, None, None, 128)   73856     \n",
      "_________________________________________________________________\n",
      "block2_conv2 (Conv2D)        (None, None, None, 128)   147584    \n",
      "_________________________________________________________________\n",
      "block2_pool (MaxPooling2D)   (None, None, None, 128)   0         \n",
      "_________________________________________________________________\n",
      "block3_conv1 (Conv2D)        (None, None, None, 256)   295168    \n",
      "_________________________________________________________________\n",
      "block3_conv2 (Conv2D)        (None, None, None, 256)   590080    \n",
      "_________________________________________________________________\n",
      "block3_conv3 (Conv2D)        (None, None, None, 256)   590080    \n",
      "_________________________________________________________________\n",
      "block3_pool (MaxPooling2D)   (None, None, None, 256)   0         \n",
      "_________________________________________________________________\n",
      "block4_conv1 (Conv2D)        (None, None, None, 512)   1180160   \n",
      "_________________________________________________________________\n",
      "block4_conv2 (Conv2D)        (None, None, None, 512)   2359808   \n",
      "_________________________________________________________________\n",
      "block4_conv3 (Conv2D)        (None, None, None, 512)   2359808   \n",
      "_________________________________________________________________\n",
      "block4_pool (MaxPooling2D)   (None, None, None, 512)   0         \n",
      "_________________________________________________________________\n",
      "block5_conv1 (Conv2D)        (None, None, None, 512)   2359808   \n",
      "_________________________________________________________________\n",
      "block5_conv2 (Conv2D)        (None, None, None, 512)   2359808   \n",
      "_________________________________________________________________\n",
      "block5_conv3 (Conv2D)        (None, None, None, 512)   2359808   \n",
      "_________________________________________________________________\n",
      "block5_pool (MaxPooling2D)   (None, None, None, 512)   0         \n",
      "=================================================================\n",
      "Total params: 14,714,688\n",
      "Trainable params: 14,714,688\n",
      "Non-trainable params: 0\n",
      "_________________________________________________________________\n"
     ]
    }
   ],
   "source": [
    "from keras.applications import VGG16\n",
    "\n",
    "# include top should be False to remove the softmax layer\n",
    "pretrained_model = VGG16(include_top=False, weights='imagenet')\n",
    "pretrained_model.summary()"
   ]
  },
  {
   "cell_type": "code",
   "execution_count": 35,
   "metadata": {},
   "outputs": [],
   "source": [
    "test_eval = model.evaluate(validation_generator, verbose=0)"
   ]
  },
  {
   "cell_type": "code",
   "execution_count": 36,
   "metadata": {},
   "outputs": [
    {
     "name": "stdout",
     "output_type": "stream",
     "text": [
      "Test loss: 0.6796600222587585\n",
      "Test accuracy: 0.6666666865348816\n"
     ]
    }
   ],
   "source": [
    "print('Test loss:', test_eval[0])\n",
    "print('Test accuracy:', test_eval[1])"
   ]
  },
  {
   "cell_type": "code",
   "execution_count": 37,
   "metadata": {},
   "outputs": [],
   "source": [
    "sample_training_images, _ = next(train_generator)"
   ]
  },
  {
   "cell_type": "code",
   "execution_count": 38,
   "metadata": {},
   "outputs": [],
   "source": [
    "def plotImages(images_arr):\n",
    "    fig, axes = plt.subplots(1, 5, figsize=(20,20))\n",
    "    axes = axes.flatten()\n",
    "    for img, ax in zip( images_arr, axes):\n",
    "        ax.imshow(img)\n",
    "        ax.axis('off')\n",
    "    plt.tight_layout()\n",
    "    plt.show()"
   ]
  },
  {
   "cell_type": "code",
   "execution_count": 39,
   "metadata": {},
   "outputs": [
    {
     "data": {
      "image/png": "[encoded data removed]",
      "text/plain": [
       "<Figure size 1440x1440 with 5 Axes>"
      ]
     },
     "metadata": {
      "needs_background": "light"
     },
     "output_type": "display_data"
    }
   ],
   "source": [
    "plotImages(sample_training_images[:5])"
   ]
  },
  {
   "cell_type": "code",
   "execution_count": null,
   "metadata": {},
   "outputs": [],
   "source": []
  }
 ],
 "metadata": {
  "kernelspec": {
   "display_name": "Python 3",
   "language": "python",
   "name": "python3"
  },
  "language_info": {
   "codemirror_mode": {
    "name": "ipython",
    "version": 3
   },
   "file_extension": ".py",
   "mimetype": "text/x-python",
   "name": "python",
   "nbconvert_exporter": "python",
   "pygments_lexer": "ipython3",
   "version": "3.7.6"
  }
 },
 "nbformat": 4,
 "nbformat_minor": 4
}
